{
 "cells": [
  {
   "cell_type": "code",
   "execution_count": 1,
   "metadata": {},
   "outputs": [],
   "source": [
    "from sklearn.datasets import fetch_openml\n",
    "import tensorflow as tf\n",
    "from tensorflow import keras\n",
    "import numpy as np"
   ]
  },
  {
   "cell_type": "code",
   "execution_count": 2,
   "metadata": {},
   "outputs": [
    {
     "data": {
      "text/plain": [
       "((70000, 784), (70000,))"
      ]
     },
     "execution_count": 2,
     "metadata": {},
     "output_type": "execute_result"
    }
   ],
   "source": [
    "mnist = fetch_openml(\"mnist_784\")\n",
    "x,y = mnist['data'],mnist['target']\n",
    "x.shape,y.shape"
   ]
  },
  {
   "cell_type": "code",
   "execution_count": 3,
   "metadata": {},
   "outputs": [],
   "source": [
    "x_train, x_test = x[:60000], x[60000:]\n",
    "y_train, y_test = y[:60000], y[60000:]\n",
    "\n",
    "shuffle_index = np.random.permutation(60000)\n",
    "x_train, y_train = x_train[shuffle_index], y_train[shuffle_index]\n",
    "\n",
    "y_train = y_train.astype(np.int8)\n",
    "y_test = y_test.astype(np.int8)"
   ]
  },
  {
   "cell_type": "code",
   "execution_count": 4,
   "metadata": {},
   "outputs": [],
   "source": [
    "model = keras.Sequential([\n",
    "    keras.layers.Dense(128, activation='relu'),\n",
    "    keras.layers.Dense(10)\n",
    "])"
   ]
  },
  {
   "cell_type": "code",
   "execution_count": 5,
   "metadata": {},
   "outputs": [
    {
     "name": "stdout",
     "output_type": "stream",
     "text": [
      "Train on 60000 samples\n",
      "Epoch 1/50\n",
      "60000/60000 [==============================] - 3s 49us/sample - loss: 2.8033 - accuracy: 0.8656\n",
      "Epoch 2/50\n",
      "60000/60000 [==============================] - 3s 42us/sample - loss: 0.3835 - accuracy: 0.9103\n",
      "Epoch 3/50\n",
      "60000/60000 [==============================] - 3s 46us/sample - loss: 0.2933 - accuracy: 0.9272\n",
      "Epoch 4/50\n",
      "60000/60000 [==============================] - 3s 45us/sample - loss: 0.2461 - accuracy: 0.9376\n",
      "Epoch 5/50\n",
      "60000/60000 [==============================] - 3s 43us/sample - loss: 0.2346 - accuracy: 0.9421\n",
      "Epoch 6/50\n",
      "60000/60000 [==============================] - 3s 43us/sample - loss: 0.2184 - accuracy: 0.9465\n",
      "Epoch 7/50\n",
      "60000/60000 [==============================] - 3s 42us/sample - loss: 0.2028 - accuracy: 0.9509\n",
      "Epoch 8/50\n",
      "60000/60000 [==============================] - 3s 44us/sample - loss: 0.1933 - accuracy: 0.9531\n",
      "Epoch 9/50\n",
      "60000/60000 [==============================] - 3s 43us/sample - loss: 0.1925 - accuracy: 0.9538\n",
      "Epoch 10/50\n",
      "60000/60000 [==============================] - 3s 43us/sample - loss: 0.1815 - accuracy: 0.9569\n",
      "Epoch 11/50\n",
      "60000/60000 [==============================] - 3s 45us/sample - loss: 0.1723 - accuracy: 0.9583\n",
      "Epoch 12/50\n",
      "60000/60000 [==============================] - 3s 43us/sample - loss: 0.1747 - accuracy: 0.9597\n",
      "Epoch 13/50\n",
      "60000/60000 [==============================] - 3s 45us/sample - loss: 0.1669 - accuracy: 0.9612\n",
      "Epoch 14/50\n",
      "60000/60000 [==============================] - 3s 43us/sample - loss: 0.1599 - accuracy: 0.9629\n",
      "Epoch 15/50\n",
      "60000/60000 [==============================] - 3s 45us/sample - loss: 0.1568 - accuracy: 0.9631\n",
      "Epoch 16/50\n",
      "60000/60000 [==============================] - 3s 44us/sample - loss: 0.1608 - accuracy: 0.9631\n",
      "Epoch 17/50\n",
      "60000/60000 [==============================] - 3s 42us/sample - loss: 0.1524 - accuracy: 0.9643\n",
      "Epoch 18/50\n",
      "60000/60000 [==============================] - 3s 44us/sample - loss: 0.1561 - accuracy: 0.9643\n",
      "Epoch 19/50\n",
      "60000/60000 [==============================] - 3s 43us/sample - loss: 0.1554 - accuracy: 0.9646\n",
      "Epoch 20/50\n",
      "60000/60000 [==============================] - 3s 43us/sample - loss: 0.1455 - accuracy: 0.9667\n",
      "Epoch 21/50\n",
      "60000/60000 [==============================] - 3s 45us/sample - loss: 0.1507 - accuracy: 0.9654\n",
      "Epoch 22/50\n",
      "60000/60000 [==============================] - 3s 46us/sample - loss: 0.1489 - accuracy: 0.9669\n",
      "Epoch 23/50\n",
      "60000/60000 [==============================] - 3s 44us/sample - loss: 0.1448 - accuracy: 0.9674\n",
      "Epoch 24/50\n",
      "60000/60000 [==============================] - 3s 44us/sample - loss: 0.1388 - accuracy: 0.9682\n",
      "Epoch 25/50\n",
      "60000/60000 [==============================] - 3s 47us/sample - loss: 0.1441 - accuracy: 0.9681\n",
      "Epoch 26/50\n",
      "60000/60000 [==============================] - 2s 42us/sample - loss: 0.1384 - accuracy: 0.9692\n",
      "Epoch 27/50\n",
      "60000/60000 [==============================] - 3s 42us/sample - loss: 0.1461 - accuracy: 0.9690\n",
      "Epoch 28/50\n",
      "60000/60000 [==============================] - 3s 43us/sample - loss: 0.1403 - accuracy: 0.9692\n",
      "Epoch 29/50\n",
      "60000/60000 [==============================] - 2s 40us/sample - loss: 0.1440 - accuracy: 0.9702\n",
      "Epoch 30/50\n",
      "60000/60000 [==============================] - 2s 40us/sample - loss: 0.1286 - accuracy: 0.9717\n",
      "Epoch 31/50\n",
      "60000/60000 [==============================] - 2s 40us/sample - loss: 0.1356 - accuracy: 0.9704\n",
      "Epoch 32/50\n",
      "60000/60000 [==============================] - 2s 40us/sample - loss: 0.1294 - accuracy: 0.9714\n",
      "Epoch 33/50\n",
      "60000/60000 [==============================] - 2s 40us/sample - loss: 0.1436 - accuracy: 0.9695\n",
      "Epoch 34/50\n",
      "60000/60000 [==============================] - 2s 42us/sample - loss: 0.1369 - accuracy: 0.9709\n",
      "Epoch 35/50\n",
      "60000/60000 [==============================] - 2s 40us/sample - loss: 0.1221 - accuracy: 0.9724\n",
      "Epoch 36/50\n",
      "60000/60000 [==============================] - 2s 40us/sample - loss: 0.1371 - accuracy: 0.9716\n",
      "Epoch 37/50\n",
      "60000/60000 [==============================] - 2s 40us/sample - loss: 0.1349 - accuracy: 0.9720\n",
      "Epoch 38/50\n",
      "60000/60000 [==============================] - 2s 40us/sample - loss: 0.1292 - accuracy: 0.9734\n",
      "Epoch 39/50\n",
      "60000/60000 [==============================] - 2s 40us/sample - loss: 0.1298 - accuracy: 0.9727\n",
      "Epoch 40/50\n",
      "60000/60000 [==============================] - 2s 40us/sample - loss: 0.1269 - accuracy: 0.9732\n",
      "Epoch 41/50\n",
      "60000/60000 [==============================] - 3s 42us/sample - loss: 0.1287 - accuracy: 0.9728\n",
      "Epoch 42/50\n",
      "60000/60000 [==============================] - 2s 40us/sample - loss: 0.1210 - accuracy: 0.9740\n",
      "Epoch 43/50\n",
      "60000/60000 [==============================] - 2s 41us/sample - loss: 0.1249 - accuracy: 0.9732\n",
      "Epoch 44/50\n",
      "60000/60000 [==============================] - 2s 41us/sample - loss: 0.1278 - accuracy: 0.9729\n",
      "Epoch 45/50\n",
      "60000/60000 [==============================] - 2s 40us/sample - loss: 0.1248 - accuracy: 0.9737\n",
      "Epoch 46/50\n",
      "60000/60000 [==============================] - 2s 41us/sample - loss: 0.1247 - accuracy: 0.9741\n",
      "Epoch 47/50\n",
      "60000/60000 [==============================] - 3s 43us/sample - loss: 0.1128 - accuracy: 0.9750\n",
      "Epoch 48/50\n",
      "60000/60000 [==============================] - 2s 41us/sample - loss: 0.1234 - accuracy: 0.9732\n",
      "Epoch 49/50\n",
      "60000/60000 [==============================] - 2s 41us/sample - loss: 0.1255 - accuracy: 0.9734\n",
      "Epoch 50/50\n",
      "60000/60000 [==============================] - 3s 47us/sample - loss: 0.1122 - accuracy: 0.9755\n"
     ]
    },
    {
     "data": {
      "text/plain": [
       "<tensorflow.python.keras.callbacks.History at 0x19dd7821608>"
      ]
     },
     "execution_count": 5,
     "metadata": {},
     "output_type": "execute_result"
    }
   ],
   "source": [
    "model.compile(optimizer='adam',\n",
    "              loss=tf.keras.losses.SparseCategoricalCrossentropy(from_logits=True),\n",
    "              metrics=['accuracy'])\n",
    "model.fit(x_train, y_train, epochs=50)"
   ]
  },
  {
   "cell_type": "code",
   "execution_count": 6,
   "metadata": {},
   "outputs": [
    {
     "name": "stdout",
     "output_type": "stream",
     "text": [
      "10000/10000 - 0s - loss: 0.6920 - accuracy: 0.9526\n",
      "\n",
      "Test accuracy: 0.9526\n"
     ]
    }
   ],
   "source": [
    "test_loss, test_acc = model.evaluate(x_test,  y_test, verbose=2)\n",
    "print('\\nTest accuracy:', test_acc)"
   ]
  },
  {
   "cell_type": "code",
   "execution_count": 7,
   "metadata": {},
   "outputs": [
    {
     "name": "stdout",
     "output_type": "stream",
     "text": [
      "[0. 0. 0. 0. 0. 0. 0. 1. 0. 0.] 7 7\n"
     ]
    }
   ],
   "source": [
    "probability_model = tf.keras.Sequential([model,tf.keras.layers.Softmax()])\n",
    "predictions = probability_model.predict(x_test)\n",
    "print(predictions[0],np.argmax(predictions[0]),y_test[0])"
   ]
  }
 ],
 "metadata": {
  "kernelspec": {
   "display_name": "Python 3",
   "language": "python",
   "name": "python3"
  },
  "language_info": {
   "codemirror_mode": {
    "name": "ipython",
    "version": 3
   },
   "file_extension": ".py",
   "mimetype": "text/x-python",
   "name": "python",
   "nbconvert_exporter": "python",
   "pygments_lexer": "ipython3",
   "version": "3.7.4"
  }
 },
 "nbformat": 4,
 "nbformat_minor": 4
}
